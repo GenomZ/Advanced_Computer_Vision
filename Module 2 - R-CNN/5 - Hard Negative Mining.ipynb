{
 "cells": [
  {
   "cell_type": "markdown",
   "id": "22e626f0",
   "metadata": {},
   "source": [
    "# Hard Negative Mining\n",
    "<br><br>\n",
    "![](images/hnm.png)\n",
    "<br>\n",
    "<center>Image taken from <a href=\"https://www.semanticscholar.org/paper/Improved-Correlation-Filter-Tracking-with-Hard-Qie-Guo/bd15f06fd335379aef1adc61f688b31ef5e48eb3\">here</a></center>\n",
    "<br><br>\n",
    "\n",
    "\n",
    "\n",
    "### Topics covered and learning objectives\n",
    "- Hard Negative Mining\n",
    "\n",
    "### Time estimates:\n",
    "- Reading/Watching materials: 3min\n",
    "- Exercises: /\n",
    "<br><br>\n",
    "- **Total**: ~3min\n",
    "\n",
    "\n",
    "Hard Negative Mining is really a simple concept that will help you in the model improvement process.\n",
    "\n",
    "When we created an airplane detector, our data generator created both positive samples (ones that overlap with the original BBOX) and multiple negative samples randomly selected. This was the best what we could do to train the model.\n",
    "\n",
    "After we ran the data generator, we had the positive and negative samples, so the next step was to train the CNN model, and that's where our project stopped.\n",
    "\n",
    "If you go back to the model and run it on all the test samples, you will get correctly classified airplanes, but the model will detect them even in the background. For this scenario, we say that the classifier predicts a lot of false positives.\n",
    "\n",
    "Hard Negative Mining steps in - we take those spots (ROIs) falsely classified and intentionally mark them as **negative** samples. With those samples, we update the dataset and re-train the model. Having these examples hand-picked in the dataset, your model will perform better and become more robust to false-positive samples. You can perform this process multiple times until you are satisfied with the predictor.\n",
    "\n",
    "## SOTA Alert:\n",
    "https://openaccess.thecvf.com/content_ECCV_2018/papers/SouYoung_Jin_Unsupervised_Hard-Negative_Mining_ECCV_2018_paper.pdf"
   ]
  },
  {
   "cell_type": "code",
   "execution_count": null,
   "id": "5989cdc3",
   "metadata": {},
   "outputs": [],
   "source": []
  }
 ],
 "metadata": {
  "kernelspec": {
   "display_name": "Python 3",
   "language": "python",
   "name": "python3"
  },
  "language_info": {
   "codemirror_mode": {
    "name": "ipython",
    "version": 3
   },
   "file_extension": ".py",
   "mimetype": "text/x-python",
   "name": "python",
   "nbconvert_exporter": "python",
   "pygments_lexer": "ipython3",
   "version": "3.7.9"
  }
 },
 "nbformat": 4,
 "nbformat_minor": 5
}

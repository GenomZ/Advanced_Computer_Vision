{
 "cells": [
  {
   "cell_type": "markdown",
   "id": "22e626f0",
   "metadata": {},
   "source": [
    "# Region-based Convolutional Neural Network (R-CNN)\n",
    "\n",
    "<br><br>\n",
    "![](https://lilianweng.github.io/lil-log/assets/images/RCNN.png)\n",
    "<center>Image taken from <a href=\"https://lilianweng.github.io/lil-log/2017/12/31/object-recognition-for-dummies-part-3.html\">here</a></center>\n",
    "\n",
    "Now it's time for you to put together one of the first models for object detection - **R-CNN**! \n",
    "\n",
    "This model is far from perfect, but it started the journey of exploring how to improve the ways we get ROIs for the *two-stage* models. Later in the course, we will discuss the most advanced version of this model called *Faster R-CNN* and all the things that took us from the R-CNN to Faster R-CNN.\n",
    "\n",
    "If you look at the architecture of the R-CNN, you'll notice that it's not much different from the model we had in the *naive approach* lesson. \n",
    "\n",
    "The simplified version of the R-CNN model:\n",
    "\n",
    "We start with some regions of interest. In the case of R-CNN, we use Selective Search to get these regions. After we have about 2k of them, we put them through a pre-trained CNN architecture (Originally VGG) and get predictions for each class + background.\n",
    "\n",
    "There is more to this. To learn how the whole (paper-based) implementation works, read this blog: https://lilianweng.github.io/lil-log/2017/12/31/object-recognition-for-dummies-part-3.html\n",
    "\n",
    "\n",
    "Now that you know the R-CNN architecture, let's build one! Since we have two classes (Airplane, background), we won't be making separate classifiers for each class, but our CNN will do the whole work!\n",
    "\n",
    "\n",
    "### Steps:\n",
    "1. Import dependencies\n",
    "2. Selective Search data generator and data generation\n",
    "3. Model definition and training\n",
    "4. Prediction loop\n",
    "\n",
    "### Topics covered and learning objectives\n",
    "- Intersection over Union (IoU)\n",
    "- Object detection concept\n",
    "\n",
    "### Time estimates:\n",
    "- Reading/Watching materials: 15min\n",
    "- Exercises: 1h\n",
    "<br><br>\n",
    "- **Total**: ~1h\n",
    "\n",
    "\n",
    "**This time does not include execution time!**\n",
    "\n",
    "## Implement dependencies"
   ]
  },
  {
   "cell_type": "code",
   "execution_count": 1,
   "id": "2c8aafb5",
   "metadata": {},
   "outputs": [],
   "source": [
    "from pathlib import PurePath, Path\n",
    "import os\n",
    "import cv2\n",
    "import numpy as np\n",
    "import pandas as pd\n",
    "import matplotlib.pyplot as plt\n",
    "from tqdm.notebook import tqdm\n",
    "from sklearn.model_selection import train_test_split\n",
    "\n",
    "import tensorflow as tf\n",
    "from tensorflow.keras.models import Model, Sequential\n",
    "from tensorflow.keras.callbacks import EarlyStopping\n",
    "from tensorflow.keras.applications import VGG16\n",
    "from tensorflow.keras.layers import Flatten, Dense, Dropout, GlobalAvgPool2D\n",
    "\n",
    "# Importing custom project-based utils\n",
    "from utils import IoU, data_loader\n",
    "from tests import selective_search_generator_TEST"
   ]
  },
  {
   "cell_type": "markdown",
   "id": "570e093e",
   "metadata": {},
   "source": [
    "## Loading the datset "
   ]
  },
  {
   "cell_type": "code",
   "execution_count": 2,
   "id": "eef5196a",
   "metadata": {},
   "outputs": [
    {
     "data": {
      "application/vnd.jupyter.widget-view+json": {
       "model_id": "34d6d21314e14c87ba57bbe57d267315",
       "version_major": 2,
       "version_minor": 0
      },
      "text/plain": [
       "HBox(children=(FloatProgress(value=0.0, max=3220.0), HTML(value='')))"
      ]
     },
     "metadata": {},
     "output_type": "display_data"
    },
    {
     "name": "stdout",
     "output_type": "stream",
     "text": [
      "\n"
     ]
    },
    {
     "data": {
      "application/vnd.jupyter.widget-view+json": {
       "model_id": "27ccd9fa40ab4c67863badec2f94f768",
       "version_major": 2,
       "version_minor": 0
      },
      "text/plain": [
       "HBox(children=(FloatProgress(value=0.0, max=779.0), HTML(value='')))"
      ]
     },
     "metadata": {},
     "output_type": "display_data"
    },
    {
     "name": "stdout",
     "output_type": "stream",
     "text": [
      "\n"
     ]
    }
   ],
   "source": [
    "train_data, test_data = data_loader()"
   ]
  },
  {
   "cell_type": "markdown",
   "id": "bebb59b1",
   "metadata": {},
   "source": [
    "### Exercise 1: Update the sliding window generator to use selective search\n",
    "\n",
    "You'll find the code for the sliding window data generator used in the **naive approach to object detection** lesson in the code below. Your task is to fill a couple of lines, so it uses the selective search algorithm instead.\n",
    "\n",
    "NOTE: *selective_search* is already given as an argument of the function. Use it inside the function."
   ]
  },
  {
   "cell_type": "code",
   "execution_count": null,
   "id": "e3efd8a2",
   "metadata": {},
   "outputs": [],
   "source": [
    "def selective_search_training_data(img_obj,\n",
    "                                   selective_search,\n",
    "                                   img_size=(224, 224),\n",
    "                                   number_of_samples=10,\n",
    "                                   number_of_regions=2000):\n",
    "    \n",
    "    training_images = []\n",
    "    training_labels = []\n",
    "    \n",
    "    img = img_obj['img']\n",
    "    \n",
    "    #YOUR CODE HERE: Addd selective search here\n",
    "    \n",
    "    ssresults = None\n",
    "    \n",
    "    positive_samples=0\n",
    "    negative_samples=0\n",
    "    if len(ssresults) > 0:\n",
    "        number_of_regions = np.minimum(len(ssresults), number_of_regions)\n",
    "        \n",
    "        for i in range(number_of_regions):\n",
    "            x,y,w,h = ssresults[i]\n",
    "            proposed_region = {\"x1\":x, \n",
    "                               \"x2\":x+w, \n",
    "                               \"y1\":y, \n",
    "                               \"y2\":y+h}\n",
    "\n",
    "            for obj in img_obj['objects']:\n",
    "\n",
    "                iou = IoU(obj, proposed_region)\n",
    "\n",
    "                # Generating positive samples\n",
    "                if positive_samples < number_of_samples:\n",
    "                    if iou > 0.7:\n",
    "                        proposal = cv2.resize(img[y:y+h,x:x+w], \n",
    "                                              img_size, interpolation = cv2.INTER_AREA)\n",
    "\n",
    "                        training_images.append(proposal)\n",
    "                        training_labels.append(1)\n",
    "                        positive_samples += 1\n",
    "\n",
    "                # Generating negative samples\n",
    "                if negative_samples < number_of_samples:\n",
    "                    if iou < 0.3:\n",
    "                        proposal = cv2.resize(img[y:y+h,x:x+w], \n",
    "                                              img_size, interpolation = cv2.INTER_AREA)\n",
    "\n",
    "                        training_images.append(proposal)\n",
    "                        training_labels.append(0) \n",
    "                        negative_samples += 1\n",
    "    \n",
    "    else:\n",
    "        print(\"No regions found\")\n",
    "        \n",
    "    return np.array(training_images), np.array(training_labels)"
   ]
  },
  {
   "cell_type": "code",
   "execution_count": null,
   "id": "f3349017",
   "metadata": {},
   "outputs": [],
   "source": [
    "### TEST YOUR TRAINING SET GENERATOR\n",
    "selective_search_generator_TEST(selective_search_training_data)"
   ]
  },
  {
   "cell_type": "markdown",
   "id": "2484607e",
   "metadata": {},
   "source": [
    "### Exercise 2: Write the training set generation loop\n",
    "\n",
    "In the cell below, you have two empty lists, **training_images** and **training_labels** your task is to define the Selective Search algorithm and write a custom for loop that calls **selective_search_training_data** for each item in the **train_data** dictionary.\n",
    "\n",
    "Append all results to those two empty lists \n",
    "\n",
    "\n",
    "**IMPORTANT NOTE**: My implementation took about **1h 30min** to complete. Be cautious. A longer execution time is expected!"
   ]
  },
  {
   "cell_type": "code",
   "execution_count": null,
   "id": "054fde85",
   "metadata": {},
   "outputs": [],
   "source": [
    "training_images = []\n",
    "training_labels = []\n",
    "\n",
    "# YOUR CODE HERE\n",
    "\n",
    "    \n",
    "# DON'T CHANGE CODE BELOW THIS LINE\n",
    "X = np.vstack(training_images)\n",
    "y = np.hstack(training_labels)"
   ]
  },
  {
   "cell_type": "markdown",
   "id": "d5112035",
   "metadata": {},
   "source": [
    "### Exercise 3: Split data to training and testing parts using sklearn library"
   ]
  },
  {
   "cell_type": "code",
   "execution_count": null,
   "id": "85d98242",
   "metadata": {},
   "outputs": [],
   "source": [
    "# YOUR CODE HERE"
   ]
  },
  {
   "cell_type": "markdown",
   "id": "f0875c92",
   "metadata": {},
   "source": [
    "### Exercise 4: Define VGG16 network \n",
    "\n",
    "Define the VGG16 Network trained on the **imagenet** dataset. The network should *not* include the top part.\n",
    "\n",
    "After you define it, make sure to freeze the network."
   ]
  },
  {
   "cell_type": "code",
   "execution_count": null,
   "id": "9c63c933",
   "metadata": {},
   "outputs": [],
   "source": [
    "# YOUR CODE HERE"
   ]
  },
  {
   "cell_type": "markdown",
   "id": "49fb4075",
   "metadata": {},
   "source": [
    "### Exercise 5: Define the custom head part of the network\n",
    "\n",
    "Define the custom header with; it's up to you what architecture you want to use, the only important part is to have the output layer defined as - \n",
    "\n",
    "`Dense(1, activation=\"sigmoid\")`\n",
    "\n",
    "Example of the custom head I've used and achieved decent accuracy:\n",
    "\n",
    "- Based model\n",
    "- Start with GlobaAvgPool2D layer \n",
    "- Output layer \n",
    "\n",
    "This model achieved about ~97% accuracy on the validation set."
   ]
  },
  {
   "cell_type": "code",
   "execution_count": null,
   "id": "34724a19",
   "metadata": {},
   "outputs": [],
   "source": [
    "# YOUR CODE HERE"
   ]
  },
  {
   "cell_type": "markdown",
   "id": "1ea1e399",
   "metadata": {},
   "source": [
    "### Exercise 6: Compile and train the model\n",
    "\n",
    "While compiling the model, make sure to set `metrics=['acc']` and loss to `binary_crossentropy`. The rest of the arguments are up to you."
   ]
  },
  {
   "cell_type": "code",
   "execution_count": null,
   "id": "604ce5ae",
   "metadata": {},
   "outputs": [],
   "source": [
    "# YOUR CODE HERE"
   ]
  },
  {
   "cell_type": "code",
   "execution_count": null,
   "id": "1fb6095d",
   "metadata": {
    "scrolled": true
   },
   "outputs": [],
   "source": []
  },
  {
   "cell_type": "markdown",
   "id": "fb0a604d",
   "metadata": {},
   "source": [
    "# Prediction time!\n",
    "\n",
    "### Exercise 7: Write a custom code to make predictions with the trained model\n",
    "\n",
    "The following exercise is writing the custom prediction code to make AND visualize outputs from your model.\n",
    "\n",
    "Here are the pointers to keep in mind:\n",
    "- Take images from the **test_data**\n",
    "- Run Selective Search on top of an image\n",
    "- Selective Search can generate a few hundred proposals to thousands! You don't want to check all of them. Make sure this is a constant!\n",
    "- Each proposal should be 224x224 because of the model\n",
    "- Run model on top of the proposal\n",
    "- Model will produce a confidence score ranging from 0 to 1, don't visualize all the rectangles but only the most confident once! The number that worked for me was *0.95*"
   ]
  },
  {
   "cell_type": "code",
   "execution_count": null,
   "id": "a447809b",
   "metadata": {},
   "outputs": [],
   "source": [
    "# YOUR CODE HERE\n"
   ]
  },
  {
   "cell_type": "markdown",
   "id": "48829f46",
   "metadata": {},
   "source": [
    "## What's next\n",
    "\n",
    "Fantastic work so far! We got a pretty decent model with only the ROI generation change, but you've probably seen some predictions overlap and are either smaller or larger than the object we are looking for.\n",
    "\n",
    "There are a couple of things that we can do about this!\n",
    "- We can apply a technique called Hard-Negative mining to find negative samples and re-trained the model \n",
    "- Apply a technique called Non-Maxima suppression to merge overlapping predictions\n",
    "\n",
    "Let's talk about these two techniques in the following two lessons"
   ]
  },
  {
   "cell_type": "code",
   "execution_count": null,
   "id": "7300f5e7",
   "metadata": {},
   "outputs": [],
   "source": []
  }
 ],
 "metadata": {
  "kernelspec": {
   "display_name": "Python 3",
   "language": "python",
   "name": "python3"
  },
  "language_info": {
   "codemirror_mode": {
    "name": "ipython",
    "version": 3
   },
   "file_extension": ".py",
   "mimetype": "text/x-python",
   "name": "python",
   "nbconvert_exporter": "python",
   "pygments_lexer": "ipython3",
   "version": "3.7.9"
  }
 },
 "nbformat": 4,
 "nbformat_minor": 5
}
